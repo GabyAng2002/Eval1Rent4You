{
 "cells": [
  {
   "cell_type": "code",
   "execution_count": 1,
   "id": "a8128c2d-f0d7-480d-8a2e-977810ff5df2",
   "metadata": {},
   "outputs": [],
   "source": [
    "import pandas as pd\n",
    "import numpy as np"
   ]
  },
  {
   "cell_type": "code",
   "execution_count": 3,
   "id": "415bbaf1-fb90-4483-827a-7681858da2ac",
   "metadata": {},
   "outputs": [],
   "source": [
    "# Cargar tablas desde archivos CSV\n",
    "clientes_df = pd.read_csv('clientes.csv')\n",
    "ventas_df = pd.read_csv('ventas.csv')\n",
    "persona_df = pd.read_csv('persona.csv')\n",
    "metodo_pago_df = pd.read_csv('metodoPago.csv')\n",
    "vehiculo_df = pd.read_csv('vehiculo.csv')\n",
    "sucursal_df = pd.read_csv('sucursal.csv')\n",
    "tiempo_df = pd.read_csv('tiempo.csv')"
   ]
  },
  {
   "cell_type": "code",
   "execution_count": 4,
   "id": "62da3a8b-407e-44d6-8026-cc66d50ef5ec",
   "metadata": {},
   "outputs": [
    {
     "name": "stdout",
     "output_type": "stream",
     "text": [
      "Clientes\n",
      "   ID_Cliente  ID_Persona  ID_MetodoPago  Numero_total_alquileres  \\\n",
      "0           1           1              1                      594   \n",
      "1           2           2              2                      360   \n",
      "2           3           3              3                      418   \n",
      "3           4           4              4                      965   \n",
      "4           5           5              5                      878   \n",
      "\n",
      "   Gasto_total Ultima_fecha_alquiler  Duracion_promerio_alquiler  \n",
      "0      9024.14            26/01/2024                          17  \n",
      "1      3606.05            14/05/2024                          10  \n",
      "2      4723.22            08/04/2024                          17  \n",
      "3      9469.15            23/08/2024                          28  \n",
      "4      2992.59            17/05/2024                          15  \n",
      "Ventas\n",
      "   ID_Venta  ID_Cliente  ID_Vehiculo  ID_Sucursal  ID_Tiempo  \\\n",
      "0         1           1            1            1          1   \n",
      "1         2           2            2            2          2   \n",
      "2         3           3            3            3          3   \n",
      "3         4           4            4            4          4   \n",
      "4         5           5            5            5          5   \n",
      "\n",
      "  Fecha_de_alquiler  Monto_de_alquiler  Duracion_de_alquiler  \n",
      "0        22/08/2021            2886.46                    13  \n",
      "1        03/01/2022            4010.46                    19  \n",
      "2        15/06/2024            8236.10                    19  \n",
      "3        02/06/2022            8596.20                    28  \n",
      "4        16/09/2021            2141.38                    23  \n",
      "Persona\n",
      "   ID_Persona             Nombre FechaNacimiento                     Email  \\\n",
      "0           1      Alexa Lockley      09/08/1998         alockley0@icq.com   \n",
      "1           2  Robyn Walkingshaw      17/05/1999  rwalkingshaw1@spiegel.de   \n",
      "2           3       Mollee Villa      12/06/1997     mvilla2@wordpress.com   \n",
      "3           4       Chevy Jackes      09/12/1999      cjackes3@twitter.com   \n",
      "4           5    Edeline Tevelov      30/12/1995   etevelov4@cafepress.com   \n",
      "\n",
      "   Genero         Ciudad           Pais  \n",
      "0  Female  Silver Spring  United States  \n",
      "1  Female         Boston  United States  \n",
      "2  Female    New Orleans  United States  \n",
      "3    Male        Phoenix  United States  \n",
      "4  Female       Hartford  United States  \n"
     ]
    }
   ],
   "source": [
    "# Mostrar primeras filas\n",
    "print(\"Clientes\")\n",
    "print(clientes_df.head())\n",
    "\n",
    "print(\"Ventas\")\n",
    "print(ventas_df.head())\n",
    "\n",
    "print(\"Persona\")\n",
    "print(persona_df.head())\n"
   ]
  },
  {
   "cell_type": "code",
   "execution_count": 5,
   "id": "7d5e6243-1472-48fd-951c-7f6a57b4f3fe",
   "metadata": {},
   "outputs": [],
   "source": [
    "# Eliminar filas con valores nulos\n",
    "clientes_df.dropna(inplace=True)\n",
    "ventas_df.dropna(inplace=True)\n",
    "persona_df.dropna(inplace=True)\n",
    "metodo_pago_df.dropna(inplace=True)\n",
    "vehiculo_df.dropna(inplace=True)\n",
    "sucursal_df.dropna(inplace=True)\n",
    "tiempo_df.dropna(inplace=True)"
   ]
  },
  {
   "cell_type": "code",
   "execution_count": 6,
   "id": "992c224b-5169-45ab-8f0e-ffd8cbd32ac2",
   "metadata": {},
   "outputs": [],
   "source": [
    "# Eliminar duplicados\n",
    "clientes_df.drop_duplicates(inplace=True)\n",
    "ventas_df.drop_duplicates(inplace=True)\n",
    "persona_df.drop_duplicates(inplace=True)\n",
    "metodo_pago_df.drop_duplicates(inplace=True)\n",
    "vehiculo_df.drop_duplicates(inplace=True)\n",
    "sucursal_df.drop_duplicates(inplace=True)\n",
    "tiempo_df.drop_duplicates(inplace=True)"
   ]
  },
  {
   "cell_type": "code",
   "execution_count": 7,
   "id": "9242bc39-3e0c-4517-a356-2cf3b0f3e2de",
   "metadata": {},
   "outputs": [
    {
     "name": "stderr",
     "output_type": "stream",
     "text": [
      "C:\\Users\\Tony\\AppData\\Local\\Temp\\ipykernel_24044\\3399448678.py:2: UserWarning: Parsing dates in %d/%m/%Y format when dayfirst=False (the default) was specified. Pass `dayfirst=True` or specify a format to silence this warning.\n",
      "  clientes_df['Ultima_fecha_alquiler'] = pd.to_datetime(clientes_df['Ultima_fecha_alquiler'], errors='coerce')\n",
      "C:\\Users\\Tony\\AppData\\Local\\Temp\\ipykernel_24044\\3399448678.py:5: UserWarning: Parsing dates in %d/%m/%Y format when dayfirst=False (the default) was specified. Pass `dayfirst=True` or specify a format to silence this warning.\n",
      "  ventas_df['Fecha_de_alquiler'] = pd.to_datetime(ventas_df['Fecha_de_alquiler'], errors='coerce')\n"
     ]
    }
   ],
   "source": [
    "# Formato consistente para fechas\n",
    "clientes_df['Ultima_fecha_alquiler'] = pd.to_datetime(clientes_df['Ultima_fecha_alquiler'], errors='coerce')\n",
    "persona_df['FechaNacimiento'] = pd.to_datetime(persona_df['FechaNacimiento'], errors='coerce')\n",
    "tiempo_df['Fecha'] = pd.to_datetime(tiempo_df['Fecha'], errors='coerce')\n",
    "ventas_df['Fecha_de_alquiler'] = pd.to_datetime(ventas_df['Fecha_de_alquiler'], errors='coerce')"
   ]
  },
  {
   "cell_type": "code",
   "execution_count": 8,
   "id": "3ad298cd-c18c-49c1-8038-e1844b426fc1",
   "metadata": {},
   "outputs": [],
   "source": [
    "# Eliminar filas donde 'Fecha_de_Alquiler' sea NaT\n",
    "ventas_df = ventas_df[ventas_df['Fecha_de_alquiler'].notna()]\n",
    "\n",
    "# Eliminar filas donde la fecha de alquiler sea futura\n",
    "ventas_df = ventas_df[ventas_df['Fecha_de_alquiler'] <= pd.Timestamp.now()]\n",
    "\n",
    "# Eliminar filas con montos de alquiler o gastos totales negativos\n",
    "ventas_df = ventas_df[ventas_df['Monto_de_alquiler'] >= 0]\n",
    "clientes_df = clientes_df[clientes_df['Gasto_total'] >= 0]"
   ]
  },
  {
   "cell_type": "code",
   "execution_count": 9,
   "id": "2020f06d-20dc-4da4-bdcc-aa9f187c848f",
   "metadata": {},
   "outputs": [],
   "source": [
    "# Eliminar filas con valores nulos\n",
    "clientes_df.dropna(inplace=True)\n",
    "ventas_df.dropna(inplace=True)\n",
    "persona_df.dropna(inplace=True)\n",
    "metodo_pago_df.dropna(inplace=True)\n",
    "vehiculo_df.dropna(inplace=True)\n",
    "sucursal_df.dropna(inplace=True)\n",
    "tiempo_df.dropna(inplace=True)"
   ]
  },
  {
   "cell_type": "code",
   "execution_count": 10,
   "id": "b1437fb8-3669-41bd-b9cb-d83349d52a0f",
   "metadata": {},
   "outputs": [
    {
     "name": "stdout",
     "output_type": "stream",
     "text": [
      "ID_Cliente                    0\n",
      "ID_Persona                    0\n",
      "ID_MetodoPago                 0\n",
      "Numero_total_alquileres       0\n",
      "Gasto_total                   0\n",
      "Ultima_fecha_alquiler         0\n",
      "Duracion_promerio_alquiler    0\n",
      "dtype: int64\n",
      "ID_Venta                0\n",
      "ID_Cliente              0\n",
      "ID_Vehiculo             0\n",
      "ID_Sucursal             0\n",
      "ID_Tiempo               0\n",
      "Fecha_de_alquiler       0\n",
      "Monto_de_alquiler       0\n",
      "Duracion_de_alquiler    0\n",
      "dtype: int64\n",
      "ID_Persona         0\n",
      "Nombre             0\n",
      "FechaNacimiento    0\n",
      "Email              0\n",
      "Genero             0\n",
      "Ciudad             0\n",
      "Pais               0\n",
      "dtype: int64\n",
      "ID_MetodoPago      0\n",
      "TipoPago           0\n",
      "NombreBanco        0\n",
      "FechaExpiracion    0\n",
      "dtype: int64\n",
      "ID_Vehiculo      0\n",
      "Tipo_vehiculo    0\n",
      "Marca            0\n",
      "Modelo           0\n",
      "Año              0\n",
      "Capacidad        0\n",
      "dtype: int64\n",
      "ID_Sucursal                 0\n",
      "Nombre                      0\n",
      "Ciudad                      0\n",
      "Pais                        0\n",
      "Capacidad_almacenamiento    0\n",
      "dtype: int64\n",
      "ID_Tiempo    0\n",
      "Fecha        0\n",
      "Mes          0\n",
      "Año          0\n",
      "Trimestre    0\n",
      "dtype: int64\n"
     ]
    }
   ],
   "source": [
    "# Revisar si quedan valores nulos\n",
    "print(clientes_df.isnull().sum())\n",
    "print(ventas_df.isnull().sum())\n",
    "print(persona_df.isnull().sum())\n",
    "print(metodo_pago_df.isnull().sum())\n",
    "print(vehiculo_df.isnull().sum())\n",
    "print(sucursal_df.isnull().sum())\n",
    "print(tiempo_df.isnull().sum())"
   ]
  },
  {
   "cell_type": "code",
   "execution_count": 11,
   "id": "8b329d5b-db20-4c2f-97bf-be4315d0a56f",
   "metadata": {},
   "outputs": [],
   "source": [
    "# Guardar los datos limpios en nuevos archivos CSV\n",
    "clientes_df.to_csv('Clientes_Procesados.csv', index=False)\n",
    "ventas_df.to_csv('Ventas_Procesados.csv', index=False)\n",
    "persona_df.to_csv('Persona_Procesados.csv', index=False)\n",
    "metodo_pago_df.to_csv('MetodoPago_Procesados.csv', index=False)\n",
    "vehiculo_df.to_csv('Vehiculo_Procesados.csv', index=False)\n",
    "sucursal_df.to_csv('Sucursal_Procesados.csv', index=False)\n",
    "tiempo_df.to_csv('Tiempo_Procesados.csv', index=False)"
   ]
  },
  {
   "cell_type": "code",
   "execution_count": null,
   "id": "591f58f3-4f6c-4399-8f76-88b5aba341e1",
   "metadata": {},
   "outputs": [],
   "source": []
  }
 ],
 "metadata": {
  "kernelspec": {
   "display_name": "Python 3 (ipykernel)",
   "language": "python",
   "name": "python3"
  },
  "language_info": {
   "codemirror_mode": {
    "name": "ipython",
    "version": 3
   },
   "file_extension": ".py",
   "mimetype": "text/x-python",
   "name": "python",
   "nbconvert_exporter": "python",
   "pygments_lexer": "ipython3",
   "version": "3.8.10"
  }
 },
 "nbformat": 4,
 "nbformat_minor": 5
}
